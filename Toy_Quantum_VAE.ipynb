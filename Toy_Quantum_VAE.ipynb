{
  "nbformat": 4,
  "nbformat_minor": 0,
  "metadata": {
    "colab": {
      "provenance": [],
      "collapsed_sections": [
        "ef2XW2hdtOg2",
        "NFOgIEbttRYK",
        "SmDGUqb1vZlk",
        "_LxmZN6nvWlo",
        "b3r2rQPyM5Dj",
        "b29i6epbM62I"
      ]
    },
    "kernelspec": {
      "name": "python3",
      "display_name": "Python 3"
    },
    "language_info": {
      "name": "python"
    }
  },
  "cells": [
    {
      "cell_type": "markdown",
      "source": [
        "## Import Modules"
      ],
      "metadata": {
        "id": "ef2XW2hdtOg2"
      }
    },
    {
      "cell_type": "code",
      "source": [
        "%pip -q install tensorflow==2.15.1"
      ],
      "metadata": {
        "id": "EnW1-1FhfctF",
        "colab": {
          "base_uri": "https://localhost:8080/"
        },
        "outputId": "b2aa8c4f-d242-4051-e858-df31045f8232"
      },
      "execution_count": 1,
      "outputs": [
        {
          "output_type": "stream",
          "name": "stdout",
          "text": [
            "\u001b[2K     \u001b[90m━━━━━━━━━━━━━━━━━━━━━━━━━━━━━━━━━━━━━━━━\u001b[0m \u001b[32m475.2/475.2 MB\u001b[0m \u001b[31m1.1 MB/s\u001b[0m eta \u001b[36m0:00:00\u001b[0m\n",
            "\u001b[2K     \u001b[90m━━━━━━━━━━━━━━━━━━━━━━━━━━━━━━━━━━━━━━━━\u001b[0m \u001b[32m2.2/2.2 MB\u001b[0m \u001b[31m18.1 MB/s\u001b[0m eta \u001b[36m0:00:00\u001b[0m\n",
            "\u001b[?25h"
          ]
        }
      ]
    },
    {
      "cell_type": "code",
      "source": [
        "import keras\n",
        "from keras import layers"
      ],
      "metadata": {
        "id": "5V3ZmhU3sG8Z"
      },
      "execution_count": 3,
      "outputs": []
    },
    {
      "cell_type": "code",
      "source": [
        "keras.__version__"
      ],
      "metadata": {
        "colab": {
          "base_uri": "https://localhost:8080/",
          "height": 35
        },
        "id": "xXuQh9GxfaMb",
        "outputId": "8a0b97fc-e54f-4691-f2fd-ce1ca048c9ee"
      },
      "execution_count": 4,
      "outputs": [
        {
          "output_type": "execute_result",
          "data": {
            "text/plain": [
              "'2.15.0'"
            ],
            "application/vnd.google.colaboratory.intrinsic+json": {
              "type": "string"
            }
          },
          "metadata": {},
          "execution_count": 4
        }
      ]
    },
    {
      "cell_type": "code",
      "execution_count": 5,
      "metadata": {
        "colab": {
          "base_uri": "https://localhost:8080/"
        },
        "id": "uCc8qIO7r_8K",
        "outputId": "2bc18eda-1d81-419e-b778-620f57e3eb84"
      },
      "outputs": [
        {
          "output_type": "stream",
          "name": "stdout",
          "text": [
            "\u001b[2K     \u001b[90m━━━━━━━━━━━━━━━━━━━━━━━━━━━━━━━━━━━━━━━━\u001b[0m \u001b[32m1.6/1.6 MB\u001b[0m \u001b[31m8.0 MB/s\u001b[0m eta \u001b[36m0:00:00\u001b[0m\n",
            "\u001b[2K     \u001b[90m━━━━━━━━━━━━━━━━━━━━━━━━━━━━━━━━━━━━━━━━\u001b[0m \u001b[32m29.4/29.4 MB\u001b[0m \u001b[31m8.8 MB/s\u001b[0m eta \u001b[36m0:00:00\u001b[0m\n",
            "\u001b[2K     \u001b[90m━━━━━━━━━━━━━━━━━━━━━━━━━━━━━━━━━━━━━━━━\u001b[0m \u001b[32m2.1/2.1 MB\u001b[0m \u001b[31m47.9 MB/s\u001b[0m eta \u001b[36m0:00:00\u001b[0m\n",
            "\u001b[2K     \u001b[90m━━━━━━━━━━━━━━━━━━━━━━━━━━━━━━━━━━━━━━━━\u001b[0m \u001b[32m49.8/49.8 kB\u001b[0m \u001b[31m4.2 MB/s\u001b[0m eta \u001b[36m0:00:00\u001b[0m\n",
            "\u001b[2K     \u001b[90m━━━━━━━━━━━━━━━━━━━━━━━━━━━━━━━━━━━━━━━━\u001b[0m \u001b[32m18.5/18.5 MB\u001b[0m \u001b[31m44.8 MB/s\u001b[0m eta \u001b[36m0:00:00\u001b[0m\n",
            "\u001b[?25h"
          ]
        }
      ],
      "source": [
        "%pip -q install pennylane==0.35.1 rdkit-pypi"
      ]
    },
    {
      "cell_type": "code",
      "source": [
        "import numpy as np\n",
        "import pandas as pd\n",
        "import pennylane as qml\n",
        "import rdkit\n",
        "from rdkit import Chem, RDLogger\n",
        "from rdkit.Chem import Crippen, QED\n",
        "import warnings"
      ],
      "metadata": {
        "id": "g5KnFVjtsI54"
      },
      "execution_count": 6,
      "outputs": []
    },
    {
      "cell_type": "code",
      "source": [
        "import tensorflow as tf\n",
        "tf.__version__"
      ],
      "metadata": {
        "id": "rcW30E_UsvqO",
        "colab": {
          "base_uri": "https://localhost:8080/",
          "height": 35
        },
        "outputId": "27feca32-0b70-46f3-e057-c634300cfbf2"
      },
      "execution_count": 7,
      "outputs": [
        {
          "output_type": "execute_result",
          "data": {
            "text/plain": [
              "'2.15.1'"
            ],
            "application/vnd.google.colaboratory.intrinsic+json": {
              "type": "string"
            }
          },
          "metadata": {},
          "execution_count": 7
        }
      ]
    },
    {
      "cell_type": "code",
      "source": [
        "RDLogger.DisableLog(\"rdApp.*\")\n",
        "warnings.filterwarnings('ignore')"
      ],
      "metadata": {
        "id": "rxSLdJNYsz84"
      },
      "execution_count": 8,
      "outputs": []
    },
    {
      "cell_type": "code",
      "source": [
        "qml.about()"
      ],
      "metadata": {
        "colab": {
          "base_uri": "https://localhost:8080/"
        },
        "id": "9l9LWS1Fz-Hg",
        "outputId": "f1f8189a-dcf0-483b-a066-5cf602fe6fa4"
      },
      "execution_count": 9,
      "outputs": [
        {
          "output_type": "stream",
          "name": "stdout",
          "text": [
            "Name: PennyLane\n",
            "Version: 0.35.1\n",
            "Summary: PennyLane is a cross-platform Python library for quantum computing, quantum machine learning, and quantum chemistry. Train a quantum computer the same way as a neural network.\n",
            "Home-page: https://github.com/PennyLaneAI/pennylane\n",
            "Author: \n",
            "Author-email: \n",
            "License: Apache License 2.0\n",
            "Location: /usr/local/lib/python3.10/dist-packages\n",
            "Requires: appdirs, autograd, autoray, cachetools, networkx, numpy, pennylane-lightning, requests, rustworkx, scipy, semantic-version, toml, typing-extensions\n",
            "Required-by: PennyLane_Lightning\n",
            "\n",
            "Platform info:           Linux-6.1.58+-x86_64-with-glibc2.35\n",
            "Python version:          3.10.12\n",
            "Numpy version:           1.25.2\n",
            "Scipy version:           1.11.4\n",
            "Installed devices:\n",
            "- default.clifford (PennyLane-0.35.1)\n",
            "- default.gaussian (PennyLane-0.35.1)\n",
            "- default.mixed (PennyLane-0.35.1)\n",
            "- default.qubit (PennyLane-0.35.1)\n",
            "- default.qubit.autograd (PennyLane-0.35.1)\n",
            "- default.qubit.jax (PennyLane-0.35.1)\n",
            "- default.qubit.legacy (PennyLane-0.35.1)\n",
            "- default.qubit.tf (PennyLane-0.35.1)\n",
            "- default.qubit.torch (PennyLane-0.35.1)\n",
            "- default.qutrit (PennyLane-0.35.1)\n",
            "- null.qubit (PennyLane-0.35.1)\n",
            "- lightning.qubit (PennyLane_Lightning-0.35.1)\n"
          ]
        }
      ]
    },
    {
      "cell_type": "markdown",
      "source": [
        "## Dataset"
      ],
      "metadata": {
        "id": "NFOgIEbttRYK"
      }
    },
    {
      "cell_type": "code",
      "source": [
        "csv_path = keras.utils.get_file(\"qm9.csv\", \"https://deepchemdata.s3-us-west-1.amazonaws.com/datasets/qm9.csv\")"
      ],
      "metadata": {
        "colab": {
          "base_uri": "https://localhost:8080/"
        },
        "id": "VrIyLjIatK6r",
        "outputId": "6bb09d17-869a-445a-8819-a1261ff2ad5a"
      },
      "execution_count": 10,
      "outputs": [
        {
          "output_type": "stream",
          "name": "stdout",
          "text": [
            "Downloading data from https://deepchemdata.s3-us-west-1.amazonaws.com/datasets/qm9.csv\n",
            "29856825/29856825 [==============================] - 1s 0us/step\n"
          ]
        }
      ]
    },
    {
      "cell_type": "code",
      "source": [
        "df = pd.read_csv(csv_path, usecols=[\"smiles\", \"h298\", \"u298\", \"g298\"])\n",
        "df = df.drop(labels=range(10000, 133885))"
      ],
      "metadata": {
        "id": "QF_UOpR2t-Nh"
      },
      "execution_count": 11,
      "outputs": []
    },
    {
      "cell_type": "code",
      "source": [
        "qed = pd.Series([QED.qed(Chem.MolFromSmiles(x)) for x in df[\"smiles\"]], index=df.index, name=\"QED\")\n",
        "logP = pd.Series([Crippen.MolLogP(Chem.MolFromSmiles(x)) for x in df[\"smiles\"]], index=df.index, name=\"LogP\")"
      ],
      "metadata": {
        "id": "DemQgOzpuK52"
      },
      "execution_count": 13,
      "outputs": []
    },
    {
      "cell_type": "code",
      "source": [
        "df = pd.concat([df, qed, logP], axis=1)"
      ],
      "metadata": {
        "id": "AOqRR8Fqu2nf"
      },
      "execution_count": 14,
      "outputs": []
    },
    {
      "cell_type": "markdown",
      "source": [
        "### Get the Adjacency Matrices"
      ],
      "metadata": {
        "id": "SmDGUqb1vZlk"
      }
    },
    {
      "cell_type": "code",
      "source": [
        "def smiles_to_graph(smiles):\n",
        "    molecule = Chem.MolFromSmiles(smiles)\n",
        "    molecule = Chem.AddHs(molecule)\n",
        "    adjacency = Chem.GetAdjacencyMatrix(molecule, useBO=True)\n",
        "    return adjacency #no normalization, that comes later"
      ],
      "metadata": {
        "id": "shRAENxxva6f"
      },
      "execution_count": 15,
      "outputs": []
    },
    {
      "cell_type": "code",
      "source": [
        "vae_dataset = [smiles_to_graph(x) for x in df[\"smiles\"]]\n",
        "vae_dataset = [x for x in vae_dataset if x.shape[0] == 16]"
      ],
      "metadata": {
        "id": "XAkHa2i3wf0V"
      },
      "execution_count": 16,
      "outputs": []
    },
    {
      "cell_type": "code",
      "source": [
        "train_dataset = vae_dataset[0 : int(0.8 * len(vae_dataset))]\n",
        "val_dataset = vae_dataset[int(0.8 * len(vae_dataset)) : int(0.94 * len(vae_dataset))]\n",
        "test_dataset = vae_dataset[int(0.94 * len(vae_dataset)) : ]"
      ],
      "metadata": {
        "id": "7yHG0O2xx_sY"
      },
      "execution_count": 17,
      "outputs": []
    },
    {
      "cell_type": "code",
      "source": [
        "print(f\"{len(train_dataset)} training examples.\")"
      ],
      "metadata": {
        "colab": {
          "base_uri": "https://localhost:8080/"
        },
        "id": "mheZ9WKlxrmC",
        "outputId": "66efa949-d513-4e66-d3f3-695772195973"
      },
      "execution_count": 18,
      "outputs": [
        {
          "output_type": "stream",
          "name": "stdout",
          "text": [
            "966 training examples.\n"
          ]
        }
      ]
    },
    {
      "cell_type": "code",
      "source": [
        "qed_tensor = [df['QED'].iloc[i] for i in range(len(train_dataset))]"
      ],
      "metadata": {
        "id": "kD2Zczmuya0m"
      },
      "execution_count": 19,
      "outputs": []
    },
    {
      "cell_type": "code",
      "source": [
        "adjacency_tensor = np.array(train_dataset)\n",
        "qed_tensor = np.array(qed_tensor)"
      ],
      "metadata": {
        "id": "3CO_w4Unynaj"
      },
      "execution_count": 20,
      "outputs": []
    },
    {
      "cell_type": "code",
      "source": [
        "latent_dim = 64\n",
        "adj_shape = 16"
      ],
      "metadata": {
        "id": "jE57TnjYLNT9"
      },
      "execution_count": 21,
      "outputs": []
    },
    {
      "cell_type": "markdown",
      "source": [
        "## Implement the Model Components"
      ],
      "metadata": {
        "id": "eEMn7MnxMtZw"
      }
    },
    {
      "cell_type": "markdown",
      "source": [
        "### Implement the Quantum Graph Embedding"
      ],
      "metadata": {
        "id": "_LxmZN6nvWlo"
      }
    },
    {
      "cell_type": "code",
      "source": [
        "np.random.seed(1926)"
      ],
      "metadata": {
        "id": "OXGaq-EUiElz"
      },
      "execution_count": 22,
      "outputs": []
    },
    {
      "cell_type": "code",
      "source": [
        "def EquivarEmbed(qubits: int, layers: int = 1):\n",
        "    gammas = np.random.randn(layers,)\n",
        "    dev = qml.device(\"default.qubit.tf\", wires=qubits)\n",
        "\n",
        "    @qml.qnode(dev)\n",
        "    def V8136(inputs, weights):\n",
        "        for i in range(qubits): qml.Hadamard(wires=i)\n",
        "        for layer in range(layers):\n",
        "            for i in range(qubits):\n",
        "                for j in range(i+1, qubits):\n",
        "                    if inputs[i][j] != 0.:\n",
        "                        qml.IsingZZ(gammas[layer] * inputs[i][j], wires=[i, j])\n",
        "\n",
        "        qml.templates.AngleEmbedding(inputs, wires=range(qubits), rotation='X')\n",
        "        qml.templates.BasicEntanglerLayers(weights, wires=range(qubits), rotation=qml.RX)\n",
        "        return [qml.expval(qml.PauliX(i)) for i in range(qubits)]\n",
        "\n",
        "    return qml.qnn.KerasLayer(V8136, weight_shapes={\"weights\": (layers, qubits)}, output_dim=16)"
      ],
      "metadata": {
        "id": "Y9ZtFqR6vTck"
      },
      "execution_count": 67,
      "outputs": []
    },
    {
      "cell_type": "markdown",
      "source": [
        "### Encoder"
      ],
      "metadata": {
        "id": "b3r2rQPyM5Dj"
      }
    },
    {
      "cell_type": "code",
      "source": [
        "def Encoder(input_shape, qubits: int, L: int, **kwargs):\n",
        "    adjacency = layers.Input(shape=input_shape)\n",
        "    x = EquivarEmbed(qubits=16, layers=L)(adjacency)\n",
        "    x = layers.Dense(units=2*latent_dim, activation=\"relu\", name=\"dense\")(x)\n",
        "    x = layers.Dropout(rate=0.2, name=\"dropout\")(x)\n",
        "    z_mean = layers.Dense(units=latent_dim, activation=\"relu\", name=\"z_mean\")(x)\n",
        "    log_var = layers.Dense(units=latent_dim, activation=\"relu\", name=\"log_var\")(x)\n",
        "    return keras.Model(adjacency, [z_mean, log_var], name=\"encoder\")"
      ],
      "metadata": {
        "id": "KmZv4d46iZTR"
      },
      "execution_count": 68,
      "outputs": []
    },
    {
      "cell_type": "code",
      "source": [
        "E = Encoder(input_shape=(adj_shape, adj_shape), qubits=16, L=1)"
      ],
      "metadata": {
        "id": "ujTEMpCYLrUm"
      },
      "execution_count": 69,
      "outputs": []
    },
    {
      "cell_type": "code",
      "source": [
        "E.summary()"
      ],
      "metadata": {
        "colab": {
          "base_uri": "https://localhost:8080/"
        },
        "id": "osLyBGxwLyyX",
        "outputId": "deb9c0fb-780a-46d3-aede-60511fc6f079"
      },
      "execution_count": 70,
      "outputs": [
        {
          "output_type": "stream",
          "name": "stdout",
          "text": [
            "Model: \"encoder\"\n",
            "__________________________________________________________________________________________________\n",
            " Layer (type)                Output Shape                 Param #   Connected to                  \n",
            "==================================================================================================\n",
            " input_20 (InputLayer)       [(None, 16, 16)]             0         []                            \n",
            "                                                                                                  \n",
            " keras_layer_13 (KerasLayer  (None, 16)                   16        ['input_20[0][0]']            \n",
            " )                                                                                                \n",
            "                                                                                                  \n",
            " dense (Dense)               (None, 128)                  2176      ['keras_layer_13[0][0]']      \n",
            "                                                                                                  \n",
            " dropout (Dropout)           (None, 128)                  0         ['dense[0][0]']               \n",
            "                                                                                                  \n",
            " z_mean (Dense)              (None, 64)                   8256      ['dropout[0][0]']             \n",
            "                                                                                                  \n",
            " log_var (Dense)             (None, 64)                   8256      ['dropout[0][0]']             \n",
            "                                                                                                  \n",
            "==================================================================================================\n",
            "Total params: 18704 (73.06 KB)\n",
            "Trainable params: 18704 (73.06 KB)\n",
            "Non-trainable params: 0 (0.00 Byte)\n",
            "__________________________________________________________________________________________________\n"
          ]
        }
      ]
    },
    {
      "cell_type": "markdown",
      "source": [
        "### Decoder"
      ],
      "metadata": {
        "id": "b29i6epbM62I"
      }
    },
    {
      "cell_type": "code",
      "source": [
        "def Decoder(input_shape):\n",
        "    features = layers.Input(input_shape)\n",
        "    x = layers.GlobalAveragePooling1D(data_format='channels_last', keepdims=False, name=\"pooling\")(features)\n",
        "    x = layers.Dense(units = adj_shape * adj_shape, activation=\"relu\", name=\"expand\")(x)\n",
        "    x = layers.Dropout(rate=0.2, name=\"dropout\")(x)\n",
        "    x = layers.Reshape(target_shape=(adj_shape, adj_shape), name=\"reshape\")(x)\n",
        "    adjacency = layers.Softmax(axis=-1, name=\"softmax\")(x)\n",
        "    return keras.Model(features, adjacency, name=\"decoder\")"
      ],
      "metadata": {
        "id": "rVh1AghLmSFF"
      },
      "execution_count": 72,
      "outputs": []
    },
    {
      "cell_type": "code",
      "source": [
        "D = Decoder(input_shape=(adj_shape, latent_dim))"
      ],
      "metadata": {
        "id": "Q-iE4dPHXy24"
      },
      "execution_count": 73,
      "outputs": []
    },
    {
      "cell_type": "code",
      "source": [
        "D.summary()"
      ],
      "metadata": {
        "colab": {
          "base_uri": "https://localhost:8080/"
        },
        "id": "AgHUhZAqX10u",
        "outputId": "9d81717d-7692-48a3-dbbc-d49527570842"
      },
      "execution_count": 74,
      "outputs": [
        {
          "output_type": "stream",
          "name": "stdout",
          "text": [
            "Model: \"decoder\"\n",
            "_________________________________________________________________\n",
            " Layer (type)                Output Shape              Param #   \n",
            "=================================================================\n",
            " input_21 (InputLayer)       [(None, 16, 64)]          0         \n",
            "                                                                 \n",
            " pooling (GlobalAveragePool  (None, 64)                0         \n",
            " ing1D)                                                          \n",
            "                                                                 \n",
            " expand (Dense)              (None, 256)               16640     \n",
            "                                                                 \n",
            " dropout (Dropout)           (None, 256)               0         \n",
            "                                                                 \n",
            " reshape (Reshape)           (None, 16, 16)            0         \n",
            "                                                                 \n",
            " softmax (Softmax)           (None, 16, 16)            0         \n",
            "                                                                 \n",
            "=================================================================\n",
            "Total params: 16640 (65.00 KB)\n",
            "Trainable params: 16640 (65.00 KB)\n",
            "Non-trainable params: 0 (0.00 Byte)\n",
            "_________________________________________________________________\n"
          ]
        }
      ]
    },
    {
      "cell_type": "markdown",
      "source": [
        "### Sampling Layer"
      ],
      "metadata": {
        "id": "e8lu11GoYojP"
      }
    },
    {
      "cell_type": "code",
      "source": [
        "class Sampling(layers.Layer):\n",
        "    def call(self, inputs):\n",
        "        z_mean, z_log_var = inputs\n",
        "        batch = tf.shape(z_log_var)[1]\n",
        "        dim = tf.shape(z_log_var)[2]\n",
        "        epsilon = tf.keras.backend.random_normal(shape=(1, batch, dim))\n",
        "        return z_mean + tf.exp(0.5 * z_log_var) * epsilon"
      ],
      "metadata": {
        "id": "C70ZGUuZYgkF"
      },
      "execution_count": 89,
      "outputs": []
    },
    {
      "cell_type": "markdown",
      "source": [
        "## Build the Model"
      ],
      "metadata": {
        "id": "VYJ6uNBZY12z"
      }
    },
    {
      "cell_type": "code",
      "source": [
        "class QuantumVAE(keras.Model):\n",
        "    def __init__(self, encoder, decoder, **kwargs):\n",
        "        super().__init__(**kwargs)\n",
        "        self.encoder = encoder\n",
        "        self.decoder = decoder\n",
        "        self.property_prediction_layer = layers.Dense(1)\n",
        "        self.train_total_loss_tracker = keras.metrics.Mean(name=\"train_total_loss\")\n",
        "        self.val_total_loss_tracker = keras.metrics.Mean(name=\"val_total_loss\")\n",
        "\n",
        "    def train_step(self, data):\n",
        "        graph_real, qed_real = data[0]\n",
        "        self.batch_size = tf.shape(qed_real)[0]\n",
        "        with tf.GradientTape() as tape:\n",
        "            z_mean, z_log_var, qed_pred, graph_generated, = self(graph_real, training=True)\n",
        "            total_loss = self._compute_loss(z_log_var, z_mean, qed_tensor, qed_pred, graph_real, graph_generated)\n",
        "        grads = tape.gradient(total_loss, self.trainable_weights)\n",
        "        self.optimizer.apply_gradients(zip(grads, self.trainable_weights))\n",
        "        self.train_total_loss_tracker.update_state(total_loss)\n",
        "        return {\"loss\": self.train_total_loss_tracker.result()}\n",
        "\n",
        "    def _compute_loss(self, z_log_var, z_mean, qed_true, qed_pred, graph_real, graph_gen):\n",
        "        adjacency_loss = tf.reduce_mean(tf.reduce_sum(keras.losses.categorical_crossentropy(graph_real, graph_gen), axis=(1,),))\n",
        "        kl_loss = -0.5 * tf.reduce_sum(1 + z_log_var - tf.square(z_mean) - tf.exp(z_log_var), 1)\n",
        "        kl_loss = tf.reduce_mean(kl_loss)\n",
        "        property_loss = tf.reduce_mean(keras.losses.binary_crossentropy(qed_true, qed_pred))\n",
        "        graph_loss = self._gradient_penalty(graph_real, graph_gen)\n",
        "        return kl_loss + property_loss + graph_loss + adjacency_loss\n",
        "\n",
        "    def _gradient_penalty(self, graph_real, graph_generated):\n",
        "        alpha = tf.random.uniform([self.batch_size])\n",
        "        alpha = tf.reshape(alpha, (self.batch_size, 1, 1))\n",
        "        adjacency_interp = (graph_real * alpha) + (1 - alpha) * graph_generated\n",
        "        with tf.GradientTape() as tape:\n",
        "            tape.watch(adjacency_interp)\n",
        "            _, _, logits, _, _ = self(adjacency_interp, training=True)\n",
        "\n",
        "        grads = tape.gradient(logits, adjacency_interp)\n",
        "        grads_adjacency_penalty = (1 - tf.norm(grads[0], axis=1)) ** 2\n",
        "        return tf.reduce_mean(grads_adjacency_penalty, axis=(-1))\n",
        "\n",
        "    def call(self, inputs):\n",
        "        z_mean, log_var = self.encoder(inputs)\n",
        "        z = Sampling()([z_mean, log_var])\n",
        "        gen_adjacency = self.decoder(z)\n",
        "        property_pred = self.property_prediction_layer(z_mean)\n",
        "        return z_mean, log_var, property_pred, gen_adjacency"
      ],
      "metadata": {
        "id": "3uWUwogeYzu4"
      },
      "execution_count": 90,
      "outputs": []
    },
    {
      "cell_type": "code",
      "source": [
        "scheduler = keras.optimizers.schedules.CosineDecay(\n",
        "    initial_learning_rate = 1e-4,\n",
        "    decay_steps = 100,\n",
        "    alpha=0.0,\n",
        "    name=\"CosineDecay\",\n",
        "    warmup_target=1e-3,\n",
        "    warmup_steps=10,\n",
        ")\n",
        "optimizer = keras.optimizers.Lion(learning_rate=scheduler)"
      ],
      "metadata": {
        "id": "hwM7S161albe"
      },
      "execution_count": 91,
      "outputs": []
    },
    {
      "cell_type": "code",
      "source": [
        "model = QuantumVAE(E, D)\n",
        "model.compile(optimizer)"
      ],
      "metadata": {
        "id": "yTY0rlo3bLUJ"
      },
      "execution_count": 92,
      "outputs": []
    },
    {
      "cell_type": "markdown",
      "source": [
        "## Train Model"
      ],
      "metadata": {
        "id": "0KS-Io_lc_YJ"
      }
    },
    {
      "cell_type": "code",
      "source": [
        "model(np.random.randn(1, 16, 16)) #build model first"
      ],
      "metadata": {
        "id": "AYf2C60-ayf4"
      },
      "execution_count": null,
      "outputs": []
    },
    {
      "cell_type": "code",
      "source": [
        "model.summary()"
      ],
      "metadata": {
        "colab": {
          "base_uri": "https://localhost:8080/"
        },
        "id": "PrBOaXspbh6y",
        "outputId": "b974e00c-60e2-4f71-985d-50a985f6fadd"
      },
      "execution_count": 94,
      "outputs": [
        {
          "output_type": "stream",
          "name": "stdout",
          "text": [
            "Model: \"quantum_vae_2\"\n",
            "_________________________________________________________________\n",
            " Layer (type)                Output Shape              Param #   \n",
            "=================================================================\n",
            " encoder (Functional)        [(None, 64),              18704     \n",
            "                              (None, 64)]                        \n",
            "                                                                 \n",
            " decoder (Functional)        (None, 16, 16)            16640     \n",
            "                                                                 \n",
            " dense_2 (Dense)             multiple                  65        \n",
            "                                                                 \n",
            "=================================================================\n",
            "Total params: 35413 (138.33 KB)\n",
            "Trainable params: 35409 (138.32 KB)\n",
            "Non-trainable params: 4 (16.00 Byte)\n",
            "_________________________________________________________________\n"
          ]
        }
      ]
    },
    {
      "cell_type": "code",
      "source": [
        "history = model.fit([adjacency_tensor[:100], qed_tensor[:100]], epochs=10, verbose=1)"
      ],
      "metadata": {
        "colab": {
          "base_uri": "https://localhost:8080/"
        },
        "id": "H5qbANtUeKiu",
        "outputId": "e647164a-8469-488b-d2a6-700877af3a67"
      },
      "execution_count": null,
      "outputs": [
        {
          "output_type": "stream",
          "name": "stdout",
          "text": [
            "Epoch 1/10\n"
          ]
        }
      ]
    },
    {
      "cell_type": "code",
      "source": [],
      "metadata": {
        "id": "IJ826kyReVAz"
      },
      "execution_count": null,
      "outputs": []
    }
  ]
}